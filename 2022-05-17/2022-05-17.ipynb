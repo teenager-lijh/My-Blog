{
 "cells": [
  {
   "cell_type": "code",
   "execution_count": 42,
   "metadata": {},
   "outputs": [
    {
     "name": "stdout",
     "output_type": "stream",
     "text": [
      "vector_a :  [[1 2 3]]\n",
      "vector_x : \n",
      " [[1]\n",
      " [6]\n",
      " [9]]\n"
     ]
    }
   ],
   "source": [
    "import numpy as np\n",
    "a = np.array([1, 2, 3]).reshape(1, -1)\n",
    "x = np.array([1, 6, 9]).reshape(-1, 1)\n",
    "print('vector_a : ', a)\n",
    "print('vector_x : \\n', x)"
   ]
  },
  {
   "cell_type": "code",
   "execution_count": 43,
   "metadata": {},
   "outputs": [
    {
     "name": "stdout",
     "output_type": "stream",
     "text": [
      "a dot x :  [[40]]\n"
     ]
    }
   ],
   "source": [
    "res = a.dot(x)\n",
    "print('a dot x : ', res)"
   ]
  },
  {
   "cell_type": "code",
   "execution_count": 44,
   "metadata": {},
   "outputs": [
    {
     "data": {
      "text/plain": [
       "(array([[1, 2, 3],\n",
       "        [4, 5, 6],\n",
       "        [7, 8, 9]]),\n",
       " array([[1],\n",
       "        [6],\n",
       "        [9]]))"
      ]
     },
     "execution_count": 44,
     "metadata": {},
     "output_type": "execute_result"
    }
   ],
   "source": [
    "A = np.array([i for i in range(1, 10)]).reshape(3, 3)\n",
    "x = np.array([1, 6, 9]).reshape(-1, 1)\n",
    "A, x"
   ]
  },
  {
   "cell_type": "code",
   "execution_count": 45,
   "metadata": {},
   "outputs": [
    {
     "data": {
      "text/plain": [
       "array([[ 40],\n",
       "       [ 88],\n",
       "       [136]])"
      ]
     },
     "execution_count": 45,
     "metadata": {},
     "output_type": "execute_result"
    }
   ],
   "source": [
    "res = A.dot(x)\n",
    "res"
   ]
  },
  {
   "cell_type": "code",
   "execution_count": 46,
   "metadata": {},
   "outputs": [
    {
     "data": {
      "text/plain": [
       "(array([[1, 2, 3],\n",
       "        [4, 5, 6],\n",
       "        [7, 8, 9]]),\n",
       " array([[1, 6, 9, 1, 6, 9],\n",
       "        [1, 6, 9, 1, 6, 9],\n",
       "        [1, 6, 9, 1, 6, 9]]))"
      ]
     },
     "execution_count": 46,
     "metadata": {},
     "output_type": "execute_result"
    }
   ],
   "source": [
    "A = np.array([i for i in range(1, 10)]).reshape(3, 3)\n",
    "X = np.array([1, 6, 9]*6).reshape(3, 6)\n",
    "A, X"
   ]
  },
  {
   "cell_type": "code",
   "execution_count": 47,
   "metadata": {},
   "outputs": [
    {
     "data": {
      "text/plain": [
       "(array([[ 0.70710678,  0.70710678,  0.        ],\n",
       "        [ 0.70710678, -0.70710678,  0.        ],\n",
       "        [ 0.        ,  0.        ,  1.        ]]),\n",
       " array([[1.41421356, 2.82842712, 1.41421356, 2.82842712],\n",
       "        [1.41421356, 2.82842712, 1.41421356, 2.82842712],\n",
       "        [1.        , 1.        , 1.        , 1.        ]]))"
      ]
     },
     "execution_count": 47,
     "metadata": {},
     "output_type": "execute_result"
    }
   ],
   "source": [
    "A = np.array([\n",
    "    [1/np.sqrt(2), 1/np.sqrt(2), 0],\n",
    "    [1/np.sqrt(2), -1/np.sqrt(2), 0],\n",
    "    [0, 0, 1]\n",
    "])\n",
    "\n",
    "X = np.array([\n",
    "    [np.sqrt(2), 2*np.sqrt(2), np.sqrt(2), 2*np.sqrt(2)],\n",
    "    [np.sqrt(2), 2*np.sqrt(2), np.sqrt(2), 2*np.sqrt(2)],\n",
    "    [1, 1, 1, 1]\n",
    "])\n",
    "\n",
    "A, X"
   ]
  },
  {
   "cell_type": "code",
   "execution_count": 48,
   "metadata": {},
   "outputs": [
    {
     "data": {
      "text/plain": [
       "(0.9999999999999998, 0.9999999999999998, 1.0)"
      ]
     },
     "execution_count": 48,
     "metadata": {},
     "output_type": "execute_result"
    }
   ],
   "source": [
    "# 验证矩阵 A 的每个行向量都是单位向量\n",
    "A[0].dot(A[0].T), A[1].dot(A[1].T), A[2].dot(A[2].T)"
   ]
  },
  {
   "cell_type": "code",
   "execution_count": 50,
   "metadata": {},
   "outputs": [
    {
     "data": {
      "text/plain": [
       "(0.0, 0.0, 0.0)"
      ]
     },
     "execution_count": 50,
     "metadata": {},
     "output_type": "execute_result"
    }
   ],
   "source": [
    "# 验证矩阵 A 的任意两个行向量都是正交的\n",
    "A[0].dot(A[1].T), A[0].dot(A[2].T), A[1].dot(A[2].T)"
   ]
  },
  {
   "cell_type": "code",
   "execution_count": 51,
   "metadata": {},
   "outputs": [
    {
     "data": {
      "text/plain": [
       "array([[2.00000000e+00, 4.00000000e+00, 2.00000000e+00, 4.00000000e+00],\n",
       "       [2.02930727e-17, 4.05861454e-17, 2.02930727e-17, 4.05861454e-17],\n",
       "       [1.00000000e+00, 1.00000000e+00, 1.00000000e+00, 1.00000000e+00]])"
      ]
     },
     "execution_count": 51,
     "metadata": {},
     "output_type": "execute_result"
    }
   ],
   "source": [
    "# 计算 A 点乘 X\n",
    "A.dot(X)"
   ]
  }
 ],
 "metadata": {
  "interpreter": {
   "hash": "5ec60190fd82d19059a2c75283b4d0c60a6036d5032fb7c4db6e5c318b4fdfbb"
  },
  "kernelspec": {
   "display_name": "Python 3.9.7 ('base')",
   "language": "python",
   "name": "python3"
  },
  "language_info": {
   "codemirror_mode": {
    "name": "ipython",
    "version": 3
   },
   "file_extension": ".py",
   "mimetype": "text/x-python",
   "name": "python",
   "nbconvert_exporter": "python",
   "pygments_lexer": "ipython3",
   "version": "3.9.7"
  },
  "orig_nbformat": 4
 },
 "nbformat": 4,
 "nbformat_minor": 2
}
