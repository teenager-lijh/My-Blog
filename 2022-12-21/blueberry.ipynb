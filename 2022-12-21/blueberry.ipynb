{
 "cells": [
  {
   "attachments": {},
   "cell_type": "markdown",
   "metadata": {},
   "source": [
    "### one-hot 编码\n",
    "\n",
    "one-hot 编码用来把一个类别标签转化为概率分布\n",
    "\n",
    "如果是共有 5 个类别的话\n",
    "\n",
    "例如标签 标签 tensor([1])\n",
    "\n",
    "```python\n",
    "转化为 tensor([\n",
    "    [0, 1, 0, 0, 0]\n",
    "])  # 第 1 号类别的概率为 1，其余为 0\n",
    "```"
   ]
  },
  {
   "cell_type": "code",
   "execution_count": 1324,
   "metadata": {},
   "outputs": [
    {
     "data": {
      "text/plain": [
       "tensor([[1, 0, 0, 0, 0],\n",
       "        [0, 1, 0, 0, 0],\n",
       "        [0, 0, 1, 0, 0]])"
      ]
     },
     "execution_count": 1324,
     "metadata": {},
     "output_type": "execute_result"
    }
   ],
   "source": [
    "import torch\n",
    "import torch.nn.functional as F\n",
    "\n",
    "vec = torch.arange(3)\n",
    "F.one_hot(vec, num_classes=5)  # 类别的个数为 5"
   ]
  },
  {
   "cell_type": "code",
   "execution_count": 1325,
   "metadata": {},
   "outputs": [
    {
     "name": "stdout",
     "output_type": "stream",
     "text": [
      "torch.Size([2, 3, 7])\n",
      "torch.Size([3, 2, 7])\n"
     ]
    }
   ],
   "source": [
    "mat = torch.tensor([\n",
    "    [1, 2, 3],\n",
    "    [4, 5, 6]\n",
    "])\n",
    "\n",
    "# batch_size, num_steps,  num_classes\n",
    "mat1 = F.one_hot(mat, 7)\n",
    "print(mat1.shape)\n",
    "\n",
    "# num_steps, batch_size, num_classes\n",
    "# 每次拿到所有样本的同一个时间步上的数据集\n",
    "mat2 = F.one_hot(mat.T, 7)\n",
    "print(mat2.shape)"
   ]
  },
  {
   "cell_type": "code",
   "execution_count": 1326,
   "metadata": {},
   "outputs": [
    {
     "data": {
      "text/plain": [
       "tensor([2, 1, 3])"
      ]
     },
     "execution_count": 1326,
     "metadata": {},
     "output_type": "execute_result"
    }
   ],
   "source": [
    "# one-hot 编码逆向转换\n",
    "\n",
    "torch.argmax(torch.tensor([\n",
    "    [0, 0, 1, 0],\n",
    "    [0, 1, 0, 0],\n",
    "    [0, 0, 0, 1],\n",
    "]), dim=1)"
   ]
  },
  {
   "attachments": {},
   "cell_type": "markdown",
   "metadata": {},
   "source": [
    "#### 创建虚拟数据序列\n",
    "\n",
    "虚拟的数据集的词元是数值 0-19\n",
    "长度为 1000"
   ]
  },
  {
   "cell_type": "code",
   "execution_count": 1327,
   "metadata": {},
   "outputs": [],
   "source": [
    "from random import randint\n",
    "\n",
    "seq = []\n",
    "\n",
    "for i in range(100):\n",
    "    # 每次生成长度为 10 的连续序列\n",
    "    start = randint(0, 10)  # [0, 10] 闭区间随机一个数值\n",
    "    for j in range(start, start+10):\n",
    "        seq.append(j)"
   ]
  },
  {
   "cell_type": "code",
   "execution_count": 1328,
   "metadata": {},
   "outputs": [
    {
     "data": {
      "text/plain": [
       "(1000, 0, 19)"
      ]
     },
     "execution_count": 1328,
     "metadata": {},
     "output_type": "execute_result"
    }
   ],
   "source": [
    "len(seq), min(seq), max(seq)"
   ]
  },
  {
   "attachments": {},
   "cell_type": "markdown",
   "metadata": {},
   "source": [
    "#### 构建数据集"
   ]
  },
  {
   "cell_type": "code",
   "execution_count": 1329,
   "metadata": {},
   "outputs": [],
   "source": [
    "T = len(seq)  # 序列数据 seq 的长度\n",
    "num_steps = 20  # 时间步长\n",
    "num_classes = 20  # 有多少个种类的词元;用于生成 ont-hot 编码"
   ]
  },
  {
   "cell_type": "code",
   "execution_count": 1330,
   "metadata": {},
   "outputs": [],
   "source": [
    "dtype = torch.int64\n",
    "\n",
    "x = torch.tensor(seq, dtype=dtype)\n",
    "X = torch.zeros((T-num_steps, num_steps), dtype=dtype)\n",
    "Y = torch.zeros((T-num_steps, num_steps), dtype=dtype)"
   ]
  },
  {
   "cell_type": "code",
   "execution_count": 1331,
   "metadata": {},
   "outputs": [],
   "source": [
    "for i in range(num_steps):\n",
    "    X[:, i] = x[i:T-num_steps+i]\n",
    "    Y[:, i] = x[i+1:T-num_steps+i+1]"
   ]
  },
  {
   "cell_type": "code",
   "execution_count": 1332,
   "metadata": {},
   "outputs": [
    {
     "data": {
      "text/plain": [
       "tensor([ 6,  7,  8,  9, 10, 11, 12, 13, 14, 15,  6])"
      ]
     },
     "execution_count": 1332,
     "metadata": {},
     "output_type": "execute_result"
    }
   ],
   "source": [
    "X[0, :11]"
   ]
  },
  {
   "cell_type": "code",
   "execution_count": 1333,
   "metadata": {},
   "outputs": [
    {
     "data": {
      "text/plain": [
       "tensor([ 7,  8,  9, 10, 11, 12, 13, 14, 15,  6,  7])"
      ]
     },
     "execution_count": 1333,
     "metadata": {},
     "output_type": "execute_result"
    }
   ],
   "source": [
    "Y[0, :11]"
   ]
  },
  {
   "attachments": {},
   "cell_type": "markdown",
   "metadata": {},
   "source": [
    "#### 创建数据迭代器"
   ]
  },
  {
   "cell_type": "code",
   "execution_count": 1334,
   "metadata": {},
   "outputs": [],
   "source": [
    "batch_size = 50  # 批量大小\n",
    "\n",
    "sample_epochs = X.shape[0] // batch_size\n",
    "num_samples = sample_epochs * batch_size\n",
    "\n",
    "from torch.utils import data\n",
    "dataset = data.TensorDataset(X[:num_samples, :], Y[:num_samples, :])\n",
    "diter =data.DataLoader(dataset=dataset, batch_size=batch_size)"
   ]
  },
  {
   "cell_type": "code",
   "execution_count": 1335,
   "metadata": {},
   "outputs": [
    {
     "name": "stdout",
     "output_type": "stream",
     "text": [
      "torch.Size([50, 20])  and  torch.Size([50, 20])\n",
      "torch.Size([50, 20])  and  torch.Size([50, 20])\n",
      "torch.Size([50, 20])  and  torch.Size([50, 20])\n",
      "torch.Size([50, 20])  and  torch.Size([50, 20])\n",
      "torch.Size([50, 20])  and  torch.Size([50, 20])\n",
      "torch.Size([50, 20])  and  torch.Size([50, 20])\n",
      "torch.Size([50, 20])  and  torch.Size([50, 20])\n",
      "torch.Size([50, 20])  and  torch.Size([50, 20])\n",
      "torch.Size([50, 20])  and  torch.Size([50, 20])\n",
      "torch.Size([50, 20])  and  torch.Size([50, 20])\n",
      "torch.Size([50, 20])  and  torch.Size([50, 20])\n",
      "torch.Size([50, 20])  and  torch.Size([50, 20])\n",
      "torch.Size([50, 20])  and  torch.Size([50, 20])\n",
      "torch.Size([50, 20])  and  torch.Size([50, 20])\n",
      "torch.Size([50, 20])  and  torch.Size([50, 20])\n",
      "torch.Size([50, 20])  and  torch.Size([50, 20])\n",
      "torch.Size([50, 20])  and  torch.Size([50, 20])\n",
      "torch.Size([50, 20])  and  torch.Size([50, 20])\n",
      "torch.Size([50, 20])  and  torch.Size([50, 20])\n"
     ]
    }
   ],
   "source": [
    "for _X, _Y in diter:\n",
    "    print(_X.shape, ' and ', _Y.shape)"
   ]
  },
  {
   "attachments": {},
   "cell_type": "markdown",
   "metadata": {},
   "source": [
    "#### 浅尝 RNN 层的前向传播"
   ]
  },
  {
   "cell_type": "code",
   "execution_count": 1336,
   "metadata": {},
   "outputs": [],
   "source": [
    "import torch\n",
    "from torch import nn\n",
    "import torch.nn.functional as F"
   ]
  },
  {
   "cell_type": "code",
   "execution_count": 1337,
   "metadata": {},
   "outputs": [],
   "source": [
    "num_hiddens = 256  # rnn 隐藏层的输出个数 - 也是隐藏单元个数\n",
    "num_classes = 20  # rnn 隐藏层的输入个数 - 也是 ont-hot 编码的长度 - 代表词元种类个数"
   ]
  },
  {
   "cell_type": "code",
   "execution_count": 1338,
   "metadata": {},
   "outputs": [],
   "source": [
    "# 输入为 num_classes\n",
    "# 输出为 num_hiddens\n",
    "# 1 层 rnn 堆叠\n",
    "rnn_layer = nn.RNN(num_classes, num_hiddens, 1)"
   ]
  },
  {
   "attachments": {},
   "cell_type": "markdown",
   "metadata": {},
   "source": [
    "#### 创建隐状态\n",
    "\n",
    "每一个样本的前向传播过程都会产生一个隐状态，因此 $H$ 要有 batch_size 行，每一行都是前向传播过程中产生的一个隐状态, 而每个隐状态其实只是中间层的输出，所以有 num_hiddens 列\n",
    "\n",
    "通过 rnn 层输出的是 new_H 也就是 new_state"
   ]
  },
  {
   "cell_type": "code",
   "execution_count": 1339,
   "metadata": {},
   "outputs": [
    {
     "data": {
      "text/plain": [
       "torch.Size([1, 1, 256])"
      ]
     },
     "execution_count": 1339,
     "metadata": {},
     "output_type": "execute_result"
    }
   ],
   "source": [
    "# size = (隐藏层个数，批量大小，神经元数量)\n",
    "# 在下方的测试中仅含有 1 个数据样本\n",
    "state = torch.zeros(size=(1, 1, num_hiddens))\n",
    "state.shape"
   ]
  },
  {
   "cell_type": "code",
   "execution_count": 1340,
   "metadata": {},
   "outputs": [
    {
     "data": {
      "text/plain": [
       "torch.Size([3, 1, 20])"
      ]
     },
     "execution_count": 1340,
     "metadata": {},
     "output_type": "execute_result"
    }
   ],
   "source": [
    "# (num_steps, batch_size, num_classes)\n",
    "\n",
    "# 创建一个 x_t 样本用于测试 rnn_layer 层的前向传播\n",
    "# 样本数量为 1 序列长度为 3\n",
    "x_t = F.one_hot(torch.tensor([\n",
    "    [1],\n",
    "    [3],\n",
    "    [4]\n",
    "]), 20).float()\n",
    "x_t.shape"
   ]
  },
  {
   "cell_type": "code",
   "execution_count": 1341,
   "metadata": {},
   "outputs": [
    {
     "data": {
      "text/plain": [
       "(torch.Size([3, 1, 256]), torch.Size([1, 1, 256]))"
      ]
     },
     "execution_count": 1341,
     "metadata": {},
     "output_type": "execute_result"
    }
   ],
   "source": [
    "# pred 是每一个输入的 词元 对应的输出值 形状与 x_t 相同\n",
    "# new_state 是输出的新的隐状态，并且是最后一个时间步输入\n",
    "# 后的最终的包含了所有输入过的序列信息的隐藏状态\n",
    "pred, new_state = rnn_layer(x_t, state)\n",
    "pred.shape, new_state.shape"
   ]
  },
  {
   "cell_type": "code",
   "execution_count": 1342,
   "metadata": {},
   "outputs": [
    {
     "data": {
      "text/plain": [
       "tensor([-0.0046,  0.0575, -0.0757], grad_fn=<SliceBackward0>)"
      ]
     },
     "execution_count": 1342,
     "metadata": {},
     "output_type": "execute_result"
    }
   ],
   "source": [
    "pred[2][0][:3]"
   ]
  },
  {
   "cell_type": "code",
   "execution_count": 1343,
   "metadata": {},
   "outputs": [
    {
     "data": {
      "text/plain": [
       "tensor([-0.0046,  0.0575, -0.0757], grad_fn=<SliceBackward0>)"
      ]
     },
     "execution_count": 1343,
     "metadata": {},
     "output_type": "execute_result"
    }
   ],
   "source": [
    "new_state[0][0][:3]"
   ]
  },
  {
   "attachments": {},
   "cell_type": "markdown",
   "metadata": {},
   "source": [
    "#### 矩阵的展开逻辑\n",
    "\n",
    "从内层的维度向外层逐层展开\n",
    "\n",
    "时间步数，批量大小，one-hot长度\n",
    "\n",
    "第 0 步中的 第 0 号样本 的 one-hot 编码\n",
    "\n",
    "第 0 步中的 第 1 号样本 的 one-hot 编码\n",
    "\n",
    "...\n",
    "\n",
    "以时间步作为分组排列在二维矩阵上"
   ]
  },
  {
   "cell_type": "code",
   "execution_count": 1344,
   "metadata": {},
   "outputs": [
    {
     "data": {
      "text/plain": [
       "tensor([[1, 4],\n",
       "        [2, 5],\n",
       "        [3, 6]])"
      ]
     },
     "execution_count": 1344,
     "metadata": {},
     "output_type": "execute_result"
    }
   ],
   "source": [
    "# 时间步数，批量大小\n",
    "data = torch.tensor([\n",
    "    [1, 4],\n",
    "    [2, 5],\n",
    "    [3, 6]\n",
    "])\n",
    "\n",
    "data"
   ]
  },
  {
   "cell_type": "code",
   "execution_count": 1345,
   "metadata": {},
   "outputs": [
    {
     "data": {
      "text/plain": [
       "tensor([[[0, 1, 0, 0, 0, 0, 0],\n",
       "         [0, 0, 0, 0, 1, 0, 0]],\n",
       "\n",
       "        [[0, 0, 1, 0, 0, 0, 0],\n",
       "         [0, 0, 0, 0, 0, 1, 0]],\n",
       "\n",
       "        [[0, 0, 0, 1, 0, 0, 0],\n",
       "         [0, 0, 0, 0, 0, 0, 1]]])"
      ]
     },
     "execution_count": 1345,
     "metadata": {},
     "output_type": "execute_result"
    }
   ],
   "source": [
    "data = F.one_hot(data, 7)\n",
    "data"
   ]
  },
  {
   "cell_type": "code",
   "execution_count": 1346,
   "metadata": {},
   "outputs": [
    {
     "data": {
      "text/plain": [
       "tensor([[0, 1, 0, 0, 0, 0, 0],\n",
       "        [0, 0, 0, 0, 1, 0, 0],\n",
       "        [0, 0, 1, 0, 0, 0, 0],\n",
       "        [0, 0, 0, 0, 0, 1, 0],\n",
       "        [0, 0, 0, 1, 0, 0, 0],\n",
       "        [0, 0, 0, 0, 0, 0, 1]])"
      ]
     },
     "execution_count": 1346,
     "metadata": {},
     "output_type": "execute_result"
    }
   ],
   "source": [
    "data.reshape(-1, data.shape[-1])"
   ]
  },
  {
   "attachments": {},
   "cell_type": "markdown",
   "metadata": {},
   "source": [
    "#### 构建 RNN 网络"
   ]
  },
  {
   "cell_type": "code",
   "execution_count": 1347,
   "metadata": {},
   "outputs": [],
   "source": [
    "class RNNModel(nn.Module):\n",
    "    def __init__(self):\n",
    "        super().__init__()\n",
    "        \n",
    "        # one-hot 编码长度 就是 20\n",
    "        # 隐藏单元个数\n",
    "        # 几层 rnn 堆叠\n",
    "        self.rnn = nn.RNN(20, 256, 1)\n",
    "\n",
    "        # 使用线性层将其转化为概率分布输出\n",
    "        self.linear = nn.Linear(256, 20)\n",
    "\n",
    "        self.softmax = nn.Softmax(dim=1)\n",
    "\n",
    "    def forward(self, inputs, state):\n",
    "        # 先对输入的小批量样本矩阵做 ont-hot 编码\n",
    "        X = F.one_hot(inputs.T.long(), 20)\n",
    "        X = X.to(torch.float32)\n",
    "        \n",
    "        Y, state = self.rnn(X, state)\n",
    "        output = self.linear(Y.reshape(-1, Y.shape[-1]))\n",
    "        output = self.softmax(output)\n",
    "        return output, state\n",
    "\n",
    "    def begin_state(self, batch_size):\n",
    "        # rnn 网络堆叠层数，批量大小，隐藏单元个数\n",
    "        return torch.zeros(size=(1, batch_size, 256))"
   ]
  },
  {
   "cell_type": "code",
   "execution_count": 1348,
   "metadata": {},
   "outputs": [
    {
     "name": "stdout",
     "output_type": "stream",
     "text": [
      "tensor(2.1793, grad_fn=<MeanBackward0>)\n",
      "tensor(2.1694, grad_fn=<MeanBackward0>)\n"
     ]
    },
    {
     "data": {
      "text/plain": [
       "[<matplotlib.lines.Line2D at 0x2a5407310>]"
      ]
     },
     "execution_count": 1348,
     "metadata": {},
     "output_type": "execute_result"
    },
    {
     "data": {
      "image/png": "[encoded data removed]",
      "text/plain": [
       "<Figure size 432x288 with 1 Axes>"
      ]
     },
     "metadata": {
      "needs_background": "light"
     },
     "output_type": "display_data"
    }
   ],
   "source": [
    "net = RNNModel()\n",
    "state = net.begin_state(50)\n",
    "\n",
    "# 使用交叉熵损失函数\n",
    "loss = nn.CrossEntropyLoss()\n",
    "\n",
    "# 使用 SGD 作为优化器\n",
    "updater = torch.optim.Adam(net.parameters(), lr=0.001)\n",
    "\n",
    "all_loss = []\n",
    "nums = 50\n",
    "\n",
    "# 对所有的数据迭代 100 次\n",
    "for i in range(100):\n",
    "    for _X, _Y in diter:\n",
    "        \n",
    "        # 把 Y 进行转置后拉成一个向量\n",
    "        # 这和 forward 函数产生的输出非常像\n",
    "        # 如果再把 y 进行 one-hot 编码后\n",
    "        # 就和 forward 函数中 output 的排布是一样的了\n",
    "        y = _Y.T.reshape(-1)\n",
    "        \n",
    "        # 每开始议论新的小批量数据训练的时候让 state 置零\n",
    "        # 因为当前这一批小批量数据和上一批数据是没关系的\n",
    "        state = net.begin_state(batch_size=batch_size)\n",
    "\t\t\n",
    "        # 产生预测 y_hat 和 新的 state\n",
    "        y_hat, state = net(_X, state)\n",
    "        \n",
    "        # 这里的 loss 传入的 y_hat 是概率分布\n",
    "        # loss 会自动对传入的 y.long() 进行 one-hot 编码\n",
    "        # 然后对 y_hat 和 y.long() 计算交叉熵损失\n",
    "        l = loss(y_hat, y.long()).mean()\n",
    "        updater.zero_grad()\n",
    "        l.backward()\n",
    "        updater.step()\n",
    "        all_loss.append(l)\n",
    "\n",
    "    nums -= 1\n",
    "    if nums <= 0:\n",
    "        print(all_loss[-1])\n",
    "        nums = 50\n",
    "\n",
    "import matplotlib.pyplot as plt\n",
    "import numpy as np\n",
    "\n",
    "xs = np.arange(len(all_loss))\n",
    "plt.plot(xs, all_loss)"
   ]
  },
  {
   "cell_type": "code",
   "execution_count": 1354,
   "metadata": {},
   "outputs": [],
   "source": [
    "def predict(prefix, num_preds, net, device):  #@save\n",
    "    \"\"\"\n",
    "    在prefix后面生成新字符\n",
    "    num_preds: 后续要生成多少个值\n",
    "    net: 你的模型\n",
    "    device: 你要用 cpu 还是 gpu 计算\n",
    "    \"\"\"\n",
    "    # batch_size = 1 ==> 对一个字符串做预测\n",
    "    state = net.begin_state(batch_size=1)\n",
    "    outputs = [int(prefix[0])]  # 把 prefix[0] 的数值类型放进 outputs 中\n",
    "    \n",
    "    # get_input 函数，每次从 outputs 末尾拿一个值\n",
    "    # 然后构造成可以输入到 net 模型中的形状并返回\n",
    "    get_input = lambda: torch.tensor([outputs[-1]], device=device).reshape((1, 1))\n",
    "    \n",
    "    for y in prefix[1:]:  \n",
    "        # 预热期 ==> 把 prefix 中的信息初始化到 state 中\n",
    "        # y 是从 prefix 的 第1号 元素开始取值的\n",
    "        # 当 y 取 prefix[1] 的时候，此时 get_input() 得到的输入是 prefix[0] \n",
    "        # 刚好是错开的，是没有问题的\n",
    "        # 之所以 state 也是网络的输入参数\n",
    "        # 就是要使用 state 保存 prefix 的信息\n",
    "        # 这样就相当于让网络把 prefix 中的前缀信息都记住了\n",
    "        # 然后后期再预测的时候就是基于 prefix 这一串前缀的基础上进行预测的\n",
    "        # 而不是 prefix[-1] 这单个字符进行预测\n",
    "        inputs = get_input()\n",
    "        _, state = net(inputs, state)\n",
    "        outputs.append(int(y))\n",
    "\n",
    "    # 从这儿开始是预测 prefix 后边的字符\n",
    "    # 每次都用上一次输出的值作为下一次输入的值\n",
    "    # 上一次的输出值是一个时间步上的值，而不是一个序列\n",
    "    # 但是并不用担心，之前所输入到网络中的新信息\n",
    "    # 都被存储在了 state 中\n",
    "    for _ in range(num_preds):  # 预测num_preds步\n",
    "        y, state = net(get_input(), state)\n",
    "        # index = int(y.argmax(dim=1))\n",
    "        # outputs.append(y[0][index])\n",
    "        outputs.append(int(y.argmax(dim=1).reshape(1)))\n",
    "\n",
    "    # 把 index 的值 转化成其 对应的 词（这里是字符）\n",
    "    return outputs"
   ]
  },
  {
   "cell_type": "code",
   "execution_count": 1355,
   "metadata": {},
   "outputs": [
    {
     "data": {
      "text/plain": [
       "[6, 6, 7, 8, 9, 10, 11]"
      ]
     },
     "execution_count": 1355,
     "metadata": {},
     "output_type": "execute_result"
    }
   ],
   "source": [
    "predict('66', 5, net, torch.device('cpu'))"
   ]
  },
  {
   "cell_type": "code",
   "execution_count": 1351,
   "metadata": {},
   "outputs": [
    {
     "data": {
      "text/plain": [
       "tensor([[0.0156, 0.8533, 0.1155, 0.0156],\n",
       "        [0.8533, 0.1155, 0.0156, 0.0156]])"
      ]
     },
     "execution_count": 1351,
     "metadata": {},
     "output_type": "execute_result"
    }
   ],
   "source": [
    "inputs = torch.tensor([\n",
    "    [1, 5, 3, 1],\n",
    "    [5, 3, 1, 1]\n",
    "]).float()\n",
    "\n",
    "softmax = nn.Softmax(dim=1)\n",
    "softmax(inputs)"
   ]
  },
  {
   "cell_type": "code",
   "execution_count": null,
   "metadata": {},
   "outputs": [],
   "source": []
  }
 ],
 "metadata": {
  "kernelspec": {
   "display_name": "d2l",
   "language": "python",
   "name": "python3"
  },
  "language_info": {
   "codemirror_mode": {
    "name": "ipython",
    "version": 3
   },
   "file_extension": ".py",
   "mimetype": "text/x-python",
   "name": "python",
   "nbconvert_exporter": "python",
   "pygments_lexer": "ipython3",
   "version": "3.8.13"
  },
  "orig_nbformat": 4,
  "vscode": {
   "interpreter": {
    "hash": "86bb26bcf3701c754d5fd40db657c5b7e15a074c1099b32f8fc32052c18ad091"
   }
  }
 },
 "nbformat": 4,
 "nbformat_minor": 2
}
